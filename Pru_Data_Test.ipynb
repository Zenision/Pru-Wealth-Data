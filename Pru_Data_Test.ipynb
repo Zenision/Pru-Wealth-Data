{
 "cells": [
  {
   "cell_type": "markdown",
   "metadata": {
    "run_control": {
     "marked": true
    }
   },
   "source": [
    "# Pru Wealth Data Test\n",
    "\n",
    "Below we will explore a mock database of customers, policies and funds that are similar to the Pru Wealth data. The first section of this notebook will test your SQL skills, the second section will test your Python skills and visualisation skills.\n",
    "\n",
    "The database file is called Prudential_Data.db\n",
    "\n",
    "The three tables included in this database are:\n",
    "* Customer_Table\n",
    "* Policy_Table\n",
    "* Fund_Table\n",
    "\n",
    "You will need to have the following packages installed in your Python environment:\n",
    "* numpy\n",
    "* pandas\n",
    "* sqlite3\n",
    "\n",
    "For visualization use any package of your choice (e.g., matplotlib, seaborn, plotly).\n",
    "\n",
    "Please complete and return the test before the deadline by emailing your copy of this notebook to: Denholm.Hesse@Prudential.co.uk. If you do not know the answer to a question feel free to use Google and Stack Overflow. This is to give you the option to teach yourself a concept from the internet to address a question which you do not know the answer to, please refrain from skipping questions. The test is meant to be completed by you only.\n",
    "\n",
    "Good luck and have fun!"
   ]
  },
  {
   "cell_type": "code",
   "execution_count": 1,
   "metadata": {
    "run_control": {
     "marked": true
    }
   },
   "outputs": [],
   "source": [
    "import numpy as np\n",
    "import pandas as pd\n",
    "import sqlite3"
   ]
  },
  {
   "cell_type": "markdown",
   "metadata": {
    "run_control": {
     "marked": true
    }
   },
   "source": [
    "# SQL test\n",
    "\n",
    "IMPORANT: Please make sure all questions in this section are solved using SQL by only editing the content of the variable *sqlite_query*. Please do not edit the below cell:"
   ]
  },
  {
   "cell_type": "code",
   "execution_count": 2,
   "metadata": {
    "run_control": {
     "marked": true
    }
   },
   "outputs": [],
   "source": [
    "# Establish DB connection\n",
    "conn = sqlite3.connect('Prudential_Data.db')"
   ]
  },
  {
   "cell_type": "markdown",
   "metadata": {},
   "source": [
    "Below is an example of how to query the SQLlite databse from this Jupyter notebook. Please note that SQLlite might have a slightly different syntax from the SQL you normally use. Please do not edit the below cell:"
   ]
  },
  {
   "cell_type": "code",
   "execution_count": 3,
   "metadata": {},
   "outputs": [
    {
     "data": {
      "text/html": [
       "<div>\n",
       "<style scoped>\n",
       "    .dataframe tbody tr th:only-of-type {\n",
       "        vertical-align: middle;\n",
       "    }\n",
       "\n",
       "    .dataframe tbody tr th {\n",
       "        vertical-align: top;\n",
       "    }\n",
       "\n",
       "    .dataframe thead th {\n",
       "        text-align: right;\n",
       "    }\n",
       "</style>\n",
       "<table border=\"1\" class=\"dataframe\">\n",
       "  <thead>\n",
       "    <tr style=\"text-align: right;\">\n",
       "      <th></th>\n",
       "      <th>COUNT(*)</th>\n",
       "    </tr>\n",
       "  </thead>\n",
       "  <tbody>\n",
       "    <tr>\n",
       "      <th>0</th>\n",
       "      <td>1635</td>\n",
       "    </tr>\n",
       "  </tbody>\n",
       "</table>\n",
       "</div>"
      ],
      "text/plain": [
       "   COUNT(*)\n",
       "0      1635"
      ]
     },
     "execution_count": 3,
     "metadata": {},
     "output_type": "execute_result"
    }
   ],
   "source": [
    "sqlite_query = \"\"\"\n",
    "SELECT COUNT(*) \n",
    "from policy_table \n",
    "\"\"\"\n",
    "\n",
    "pd.read_sql(sqlite_query, conn)"
   ]
  },
  {
   "cell_type": "markdown",
   "metadata": {
    "run_control": {
     "marked": true
    }
   },
   "source": [
    "The first table \"Customer_Table\" contains personal information about the customers. Please do not edit the below cell:"
   ]
  },
  {
   "cell_type": "code",
   "execution_count": 4,
   "metadata": {
    "run_control": {
     "marked": true
    }
   },
   "outputs": [
    {
     "data": {
      "text/html": [
       "<div>\n",
       "<style scoped>\n",
       "    .dataframe tbody tr th:only-of-type {\n",
       "        vertical-align: middle;\n",
       "    }\n",
       "\n",
       "    .dataframe tbody tr th {\n",
       "        vertical-align: top;\n",
       "    }\n",
       "\n",
       "    .dataframe thead th {\n",
       "        text-align: right;\n",
       "    }\n",
       "</style>\n",
       "<table border=\"1\" class=\"dataframe\">\n",
       "  <thead>\n",
       "    <tr style=\"text-align: right;\">\n",
       "      <th></th>\n",
       "      <th>index</th>\n",
       "      <th>Customer ID</th>\n",
       "      <th>Email</th>\n",
       "      <th>Gender</th>\n",
       "      <th>Age</th>\n",
       "      <th>Postcode</th>\n",
       "    </tr>\n",
       "  </thead>\n",
       "  <tbody>\n",
       "    <tr>\n",
       "      <th>0</th>\n",
       "      <td>0</td>\n",
       "      <td>CO183683</td>\n",
       "      <td>NLUPPITT14@PARALLELS.COM</td>\n",
       "      <td>Male</td>\n",
       "      <td>90</td>\n",
       "      <td>None</td>\n",
       "    </tr>\n",
       "    <tr>\n",
       "      <th>1</th>\n",
       "      <td>1</td>\n",
       "      <td>CO314757</td>\n",
       "      <td>None</td>\n",
       "      <td>Female</td>\n",
       "      <td>90</td>\n",
       "      <td>None</td>\n",
       "    </tr>\n",
       "    <tr>\n",
       "      <th>2</th>\n",
       "      <td>2</td>\n",
       "      <td>CO720602</td>\n",
       "      <td>None</td>\n",
       "      <td>Female</td>\n",
       "      <td>90</td>\n",
       "      <td>None</td>\n",
       "    </tr>\n",
       "    <tr>\n",
       "      <th>3</th>\n",
       "      <td>3</td>\n",
       "      <td>CO34804</td>\n",
       "      <td>None</td>\n",
       "      <td>Female</td>\n",
       "      <td>90</td>\n",
       "      <td>1495-701</td>\n",
       "    </tr>\n",
       "    <tr>\n",
       "      <th>4</th>\n",
       "      <td>4</td>\n",
       "      <td>CO474411</td>\n",
       "      <td>None</td>\n",
       "      <td>Male</td>\n",
       "      <td>90</td>\n",
       "      <td>301288</td>\n",
       "    </tr>\n",
       "  </tbody>\n",
       "</table>\n",
       "</div>"
      ],
      "text/plain": [
       "   index Customer ID                     Email  Gender  Age  Postcode\n",
       "0      0    CO183683  NLUPPITT14@PARALLELS.COM    Male   90      None\n",
       "1      1    CO314757                      None  Female   90      None\n",
       "2      2    CO720602                      None  Female   90      None\n",
       "3      3     CO34804                      None  Female   90  1495-701\n",
       "4      4    CO474411                      None    Male   90    301288"
      ]
     },
     "execution_count": 4,
     "metadata": {},
     "output_type": "execute_result"
    }
   ],
   "source": [
    "sqlite_query = \"\"\"\n",
    "SELECT * \n",
    "from Customer_Table \n",
    "limit 5\n",
    "\"\"\"\n",
    "\n",
    "pd.read_sql(sqlite_query, conn)"
   ]
  },
  {
   "cell_type": "markdown",
   "metadata": {},
   "source": [
    "The second table \"Policy_Table\" contains data relating to customer policies. The policy value is the current value of the policy. Please do not edit the below cell:"
   ]
  },
  {
   "cell_type": "code",
   "execution_count": 5,
   "metadata": {},
   "outputs": [
    {
     "data": {
      "text/html": [
       "<div>\n",
       "<style scoped>\n",
       "    .dataframe tbody tr th:only-of-type {\n",
       "        vertical-align: middle;\n",
       "    }\n",
       "\n",
       "    .dataframe tbody tr th {\n",
       "        vertical-align: top;\n",
       "    }\n",
       "\n",
       "    .dataframe thead th {\n",
       "        text-align: right;\n",
       "    }\n",
       "</style>\n",
       "<table border=\"1\" class=\"dataframe\">\n",
       "  <thead>\n",
       "    <tr style=\"text-align: right;\">\n",
       "      <th></th>\n",
       "      <th>index</th>\n",
       "      <th>Policy Number</th>\n",
       "      <th>Customer ID</th>\n",
       "      <th>Product Category</th>\n",
       "      <th>Product Name</th>\n",
       "      <th>Policy Value</th>\n",
       "      <th>Policy Start Date</th>\n",
       "    </tr>\n",
       "  </thead>\n",
       "  <tbody>\n",
       "    <tr>\n",
       "      <th>0</th>\n",
       "      <td>0</td>\n",
       "      <td>RET100072</td>\n",
       "      <td>CO276506</td>\n",
       "      <td>RETIREMENT</td>\n",
       "      <td>RETIREMENT ACCOUNT</td>\n",
       "      <td>270033.0</td>\n",
       "      <td>2016-01-02 00:00:00</td>\n",
       "    </tr>\n",
       "    <tr>\n",
       "      <th>1</th>\n",
       "      <td>1</td>\n",
       "      <td>RET100931</td>\n",
       "      <td>CO831289</td>\n",
       "      <td>RETIREMENT</td>\n",
       "      <td>RETIREMENT ACCOUNT</td>\n",
       "      <td>26394.0</td>\n",
       "      <td>2016-01-04 00:00:00</td>\n",
       "    </tr>\n",
       "    <tr>\n",
       "      <th>2</th>\n",
       "      <td>2</td>\n",
       "      <td>RET100682</td>\n",
       "      <td>CO784249</td>\n",
       "      <td>RETIREMENT</td>\n",
       "      <td>RETIREMENT ACCOUNT</td>\n",
       "      <td>773567.0</td>\n",
       "      <td>2016-01-04 00:00:00</td>\n",
       "    </tr>\n",
       "    <tr>\n",
       "      <th>3</th>\n",
       "      <td>3</td>\n",
       "      <td>RET100447</td>\n",
       "      <td>CO295533</td>\n",
       "      <td>RETIREMENT</td>\n",
       "      <td>RETIREMENT ACCOUNT</td>\n",
       "      <td>35512.0</td>\n",
       "      <td>2016-01-07 00:00:00</td>\n",
       "    </tr>\n",
       "    <tr>\n",
       "      <th>4</th>\n",
       "      <td>4</td>\n",
       "      <td>RET100390</td>\n",
       "      <td>CO901735</td>\n",
       "      <td>RETIREMENT</td>\n",
       "      <td>RETIREMENT ACCOUNT</td>\n",
       "      <td>767580.0</td>\n",
       "      <td>2016-01-08 00:00:00</td>\n",
       "    </tr>\n",
       "  </tbody>\n",
       "</table>\n",
       "</div>"
      ],
      "text/plain": [
       "   index Policy Number Customer ID Product Category        Product Name  \\\n",
       "0      0     RET100072    CO276506       RETIREMENT  RETIREMENT ACCOUNT   \n",
       "1      1     RET100931    CO831289       RETIREMENT  RETIREMENT ACCOUNT   \n",
       "2      2     RET100682    CO784249       RETIREMENT  RETIREMENT ACCOUNT   \n",
       "3      3     RET100447    CO295533       RETIREMENT  RETIREMENT ACCOUNT   \n",
       "4      4     RET100390    CO901735       RETIREMENT  RETIREMENT ACCOUNT   \n",
       "\n",
       "   Policy Value    Policy Start Date  \n",
       "0      270033.0  2016-01-02 00:00:00  \n",
       "1       26394.0  2016-01-04 00:00:00  \n",
       "2      773567.0  2016-01-04 00:00:00  \n",
       "3       35512.0  2016-01-07 00:00:00  \n",
       "4      767580.0  2016-01-08 00:00:00  "
      ]
     },
     "execution_count": 5,
     "metadata": {},
     "output_type": "execute_result"
    }
   ],
   "source": [
    "sqlite_query = \"\"\"\n",
    "SELECT * \n",
    "from Policy_Table \n",
    "limit 5\n",
    "\"\"\"\n",
    "\n",
    "pd.read_sql(sqlite_query, conn)"
   ]
  },
  {
   "cell_type": "markdown",
   "metadata": {},
   "source": [
    "The final table \"Fund_Table\" contains historic data on the Policy Value (Policy_Value_Snapshot). The Policy_Value_Snapshot represents the value of the policy and the Date column is the date at which that value was recorded. The value may have changed overtime due to changes in the fund price or quanity of units the policy was invested in. Please do not edit the below cell:"
   ]
  },
  {
   "cell_type": "code",
   "execution_count": 6,
   "metadata": {},
   "outputs": [
    {
     "data": {
      "text/html": [
       "<div>\n",
       "<style scoped>\n",
       "    .dataframe tbody tr th:only-of-type {\n",
       "        vertical-align: middle;\n",
       "    }\n",
       "\n",
       "    .dataframe tbody tr th {\n",
       "        vertical-align: top;\n",
       "    }\n",
       "\n",
       "    .dataframe thead th {\n",
       "        text-align: right;\n",
       "    }\n",
       "</style>\n",
       "<table border=\"1\" class=\"dataframe\">\n",
       "  <thead>\n",
       "    <tr style=\"text-align: right;\">\n",
       "      <th></th>\n",
       "      <th>index</th>\n",
       "      <th>Policy Number</th>\n",
       "      <th>Customer ID</th>\n",
       "      <th>Date</th>\n",
       "      <th>Product Category</th>\n",
       "      <th>Product Name</th>\n",
       "      <th>Policy_Value_Snapshot</th>\n",
       "    </tr>\n",
       "  </thead>\n",
       "  <tbody>\n",
       "    <tr>\n",
       "      <th>0</th>\n",
       "      <td>0</td>\n",
       "      <td>ANN1221</td>\n",
       "      <td>CO408564</td>\n",
       "      <td>2009-10-31 00:00:00</td>\n",
       "      <td>ANNUITY</td>\n",
       "      <td>STANDARD ANNUITY</td>\n",
       "      <td>None</td>\n",
       "    </tr>\n",
       "    <tr>\n",
       "      <th>1</th>\n",
       "      <td>1</td>\n",
       "      <td>ANN1221</td>\n",
       "      <td>CO408564</td>\n",
       "      <td>2009-11-30 00:00:00</td>\n",
       "      <td>ANNUITY</td>\n",
       "      <td>STANDARD ANNUITY</td>\n",
       "      <td>None</td>\n",
       "    </tr>\n",
       "    <tr>\n",
       "      <th>2</th>\n",
       "      <td>2</td>\n",
       "      <td>ANN1221</td>\n",
       "      <td>CO408564</td>\n",
       "      <td>2009-12-31 00:00:00</td>\n",
       "      <td>ANNUITY</td>\n",
       "      <td>STANDARD ANNUITY</td>\n",
       "      <td>None</td>\n",
       "    </tr>\n",
       "    <tr>\n",
       "      <th>3</th>\n",
       "      <td>3</td>\n",
       "      <td>ANN1221</td>\n",
       "      <td>CO408564</td>\n",
       "      <td>2010-01-31 00:00:00</td>\n",
       "      <td>ANNUITY</td>\n",
       "      <td>STANDARD ANNUITY</td>\n",
       "      <td>None</td>\n",
       "    </tr>\n",
       "    <tr>\n",
       "      <th>4</th>\n",
       "      <td>4</td>\n",
       "      <td>ANN1221</td>\n",
       "      <td>CO408564</td>\n",
       "      <td>2010-02-28 00:00:00</td>\n",
       "      <td>ANNUITY</td>\n",
       "      <td>STANDARD ANNUITY</td>\n",
       "      <td>None</td>\n",
       "    </tr>\n",
       "  </tbody>\n",
       "</table>\n",
       "</div>"
      ],
      "text/plain": [
       "   index Policy Number Customer ID                 Date Product Category  \\\n",
       "0      0       ANN1221    CO408564  2009-10-31 00:00:00          ANNUITY   \n",
       "1      1       ANN1221    CO408564  2009-11-30 00:00:00          ANNUITY   \n",
       "2      2       ANN1221    CO408564  2009-12-31 00:00:00          ANNUITY   \n",
       "3      3       ANN1221    CO408564  2010-01-31 00:00:00          ANNUITY   \n",
       "4      4       ANN1221    CO408564  2010-02-28 00:00:00          ANNUITY   \n",
       "\n",
       "       Product Name Policy_Value_Snapshot  \n",
       "0  STANDARD ANNUITY                  None  \n",
       "1  STANDARD ANNUITY                  None  \n",
       "2  STANDARD ANNUITY                  None  \n",
       "3  STANDARD ANNUITY                  None  \n",
       "4  STANDARD ANNUITY                  None  "
      ]
     },
     "execution_count": 6,
     "metadata": {},
     "output_type": "execute_result"
    }
   ],
   "source": [
    "sqlite_query = \"\"\"\n",
    "SELECT \n",
    "*\n",
    "from Fund_Table\n",
    "limit 5\n",
    "\n",
    "\"\"\"\n",
    "\n",
    "pd.read_sql(sqlite_query, conn)"
   ]
  },
  {
   "cell_type": "code",
   "execution_count": 8,
   "metadata": {},
   "outputs": [],
   "source": [
    "#print('Customer_Table',Customer_Table.shape)\n",
    "#print('Policy_Table',Policy_Table.shape)\n",
    "#print('Fund_Table',Fund_Table.shape)"
   ]
  },
  {
   "cell_type": "markdown",
   "metadata": {},
   "source": [
    "If a question requires additional explanation for your answer, please add additional cells below the code. "
   ]
  },
  {
   "cell_type": "markdown",
   "metadata": {
    "run_control": {
     "marked": true
    }
   },
   "source": [
    "## Q1: What is the current average policy value split by each product name? "
   ]
  },
  {
   "cell_type": "code",
   "execution_count": 9,
   "metadata": {
    "run_control": {
     "marked": true
    }
   },
   "outputs": [
    {
     "data": {
      "text/html": [
       "<div>\n",
       "<style scoped>\n",
       "    .dataframe tbody tr th:only-of-type {\n",
       "        vertical-align: middle;\n",
       "    }\n",
       "\n",
       "    .dataframe tbody tr th {\n",
       "        vertical-align: top;\n",
       "    }\n",
       "\n",
       "    .dataframe thead th {\n",
       "        text-align: right;\n",
       "    }\n",
       "</style>\n",
       "<table border=\"1\" class=\"dataframe\">\n",
       "  <thead>\n",
       "    <tr style=\"text-align: right;\">\n",
       "      <th></th>\n",
       "      <th>Product Name</th>\n",
       "      <th>Average Policy Value</th>\n",
       "    </tr>\n",
       "  </thead>\n",
       "  <tbody>\n",
       "    <tr>\n",
       "      <th>0</th>\n",
       "      <td>CORPORATE MEMBERSHIP</td>\n",
       "      <td>5697.29</td>\n",
       "    </tr>\n",
       "    <tr>\n",
       "      <th>1</th>\n",
       "      <td>FOCUSSED ISA</td>\n",
       "      <td>5746.34</td>\n",
       "    </tr>\n",
       "    <tr>\n",
       "      <th>2</th>\n",
       "      <td>NHS PENSION</td>\n",
       "      <td>5241.50</td>\n",
       "    </tr>\n",
       "    <tr>\n",
       "      <th>3</th>\n",
       "      <td>PRU BOND</td>\n",
       "      <td>4516.39</td>\n",
       "    </tr>\n",
       "    <tr>\n",
       "      <th>4</th>\n",
       "      <td>PRUDENTIAL INVESTMENT PLAN</td>\n",
       "      <td>5084.52</td>\n",
       "    </tr>\n",
       "    <tr>\n",
       "      <th>5</th>\n",
       "      <td>PRUDENTIAL ISA</td>\n",
       "      <td>5161.14</td>\n",
       "    </tr>\n",
       "    <tr>\n",
       "      <th>6</th>\n",
       "      <td>RETIREMENT ACCOUNT</td>\n",
       "      <td>504964.96</td>\n",
       "    </tr>\n",
       "    <tr>\n",
       "      <th>7</th>\n",
       "      <td>SIPP</td>\n",
       "      <td>5335.84</td>\n",
       "    </tr>\n",
       "    <tr>\n",
       "      <th>8</th>\n",
       "      <td>STANDARD ANNUITY</td>\n",
       "      <td>NaN</td>\n",
       "    </tr>\n",
       "  </tbody>\n",
       "</table>\n",
       "</div>"
      ],
      "text/plain": [
       "                 Product Name  Average Policy Value\n",
       "0        CORPORATE MEMBERSHIP               5697.29\n",
       "1                FOCUSSED ISA               5746.34\n",
       "2                 NHS PENSION               5241.50\n",
       "3                    PRU BOND               4516.39\n",
       "4  PRUDENTIAL INVESTMENT PLAN               5084.52\n",
       "5              PRUDENTIAL ISA               5161.14\n",
       "6          RETIREMENT ACCOUNT             504964.96\n",
       "7                        SIPP               5335.84\n",
       "8            STANDARD ANNUITY                   NaN"
      ]
     },
     "execution_count": 9,
     "metadata": {},
     "output_type": "execute_result"
    }
   ],
   "source": [
    "sqlite_query = \"\"\"\n",
    "\n",
    "SELECT [Product Name] , round(avg([Policy Value]),2) [Average Policy Value]\n",
    "from Policy_Table\n",
    "group by [Product Name] \n",
    "\n",
    "\"\"\"\n",
    "\n",
    "pd.read_sql(sqlite_query, conn)"
   ]
  },
  {
   "cell_type": "markdown",
   "metadata": {
    "run_control": {
     "marked": true
    }
   },
   "source": [
    "## Q2: How many customers opened a new policy in Q1 2017 who already had an existing pension product? "
   ]
  },
  {
   "cell_type": "code",
   "execution_count": 10,
   "metadata": {
    "run_control": {
     "marked": true
    },
    "scrolled": true
   },
   "outputs": [
    {
     "data": {
      "text/html": [
       "<div>\n",
       "<style scoped>\n",
       "    .dataframe tbody tr th:only-of-type {\n",
       "        vertical-align: middle;\n",
       "    }\n",
       "\n",
       "    .dataframe tbody tr th {\n",
       "        vertical-align: top;\n",
       "    }\n",
       "\n",
       "    .dataframe thead th {\n",
       "        text-align: right;\n",
       "    }\n",
       "</style>\n",
       "<table border=\"1\" class=\"dataframe\">\n",
       "  <thead>\n",
       "    <tr style=\"text-align: right;\">\n",
       "      <th></th>\n",
       "      <th>index</th>\n",
       "      <th>Cust Opened New Policy in Q1 2017</th>\n",
       "    </tr>\n",
       "  </thead>\n",
       "  <tbody>\n",
       "    <tr>\n",
       "      <th>0</th>\n",
       "      <td>0</td>\n",
       "      <td>35</td>\n",
       "    </tr>\n",
       "  </tbody>\n",
       "</table>\n",
       "</div>"
      ],
      "text/plain": [
       "   index  Cust Opened New Policy in Q1 2017\n",
       "0      0                                 35"
      ]
     },
     "execution_count": 10,
     "metadata": {},
     "output_type": "execute_result"
    }
   ],
   "source": [
    "\n",
    "sqlite_query = \"\"\"\n",
    "select count(*) 'Cust Opened New Policy in Q1 2017'\n",
    "from Policy_Table PT \n",
    "inner join Policy_Table EX\n",
    "on PT.[Customer ID] =EX.[Customer ID] and PT.[Policy Start Date] between '2017-01-01 00:00:00'  and '2017-03-31 00:00:00' \n",
    "and EX.[Policy Start Date]<'2016-12-31 00:00:00' and EX.[Product Category]='PENSION'\n",
    "\"\"\"\n",
    "#Assumption: We will be using the data till 31-Dec-2016 and consider those customers as existing onces while fetching the list of new customers in Q1 2017\n",
    "pd.read_sql(sqlite_query, conn).reset_index()"
   ]
  },
  {
   "cell_type": "markdown",
   "metadata": {
    "run_control": {
     "marked": true
    }
   },
   "source": [
    "## Q3: What was the customer ID that had the biggest difference in policy value between its earliest and latest date (for any product) ?"
   ]
  },
  {
   "cell_type": "code",
   "execution_count": 11,
   "metadata": {},
   "outputs": [
    {
     "name": "stdout",
     "output_type": "stream",
     "text": [
      "   index Customer ID\n",
      "0      0    CO517259\n"
     ]
    }
   ],
   "source": [
    "# this solution is effective if the Policy_Value_Snapshot is continuiously incremental or decremental for moving months. \n",
    "# We are considering difference as positive diffences only from first and last policy month\n",
    "\n",
    "\n",
    "sqlite_query = \"\"\"\n",
    "select [Customer ID]  from \n",
    "(\n",
    "    select  [Customer ID],[Policy Number], max(Policy_Value_Snapshot)- min(Policy_Value_Snapshot) difference\n",
    "    from Fund_Table\n",
    "    \n",
    "    group by [Customer ID],[Policy Number]\n",
    "\n",
    ")\n",
    "group by [Customer ID]\n",
    "order by sum(difference) desc\n",
    "limit 1\n",
    "\"\"\"\n",
    "\n",
    "print(pd.read_sql(sqlite_query, conn).reset_index())"
   ]
  },
  {
   "cell_type": "code",
   "execution_count": 12,
   "metadata": {
    "run_control": {
     "marked": true
    }
   },
   "outputs": [
    {
     "name": "stdout",
     "output_type": "stream",
     "text": [
      "   index Customer ID  Value_Difference\n",
      "0      0    CO401070     923603.448052\n",
      "Observation: Customer CO401070 has 2 policies ISA1895 (-19,680.05), RET100479(943,283.50) therefore diffence is 923603.44\n"
     ]
    }
   ],
   "source": [
    "# this solution is effective if the Policy_Value_Snapshot is incremental or decremental for moving months by not continuiously. i.e a given month in between can have minimum or maximum value \n",
    "# We are considering difference as positive and negative diffence from first and last policy month\n",
    "#If a customer has more than 1 policy the difference will be added\n",
    "\n",
    "#Below SQL will result us only the customer ID but if we want to see other details then we can add [Policy Number] in select part and then in group by part. this way we will get to know the customer policy with biggest difference\n",
    "#If want to see the amount then select statement should look like select  [Customer ID], sum(Max_Value)-sum(Min_Value) Value_Difference from\n",
    "\n",
    "sqlite_query = \"\"\"\n",
    "select  [Customer ID] , sum(Max_Value)-sum(Min_Value) Value_Difference from\n",
    "(\n",
    "    select [Policy Number], [Customer ID], \n",
    "\n",
    "    (case when [Date]=MIN([Date]) OVER(PARTITION BY [Policy Number],[Customer ID]) then [Policy_Value_Snapshot] else 0 end) Min_Value,\n",
    "    (case when [Date]=MAX([Date]) OVER(PARTITION BY [Policy Number],[Customer ID]) then [Policy_Value_Snapshot] else 0 end) MAX_Value\n",
    "    from Fund_Table\n",
    ")\n",
    "as t\n",
    "\n",
    "group by [Customer ID]\n",
    "order by sum(Max_Value)-sum(Min_Value) desc\n",
    "Limit 1\n",
    "\"\"\"\n",
    "\n",
    "print(pd.read_sql(sqlite_query, conn).reset_index())\n",
    "\n",
    "print ('Observation: Customer CO401070 has 2 policies ISA1895 (-19,680.05), RET100479(943,283.50) therefore diffence is 923603.44')"
   ]
  },
  {
   "cell_type": "markdown",
   "metadata": {
    "run_control": {
     "marked": true
    }
   },
   "source": [
    "# Python Test\n",
    "\n",
    "Same data, but now let's have some fun in python. Please do not use SQL for this part of the exercise. \n",
    "\n",
    "Feel free to add more cells of code or text"
   ]
  },
  {
   "cell_type": "code",
   "execution_count": 13,
   "metadata": {
    "run_control": {
     "marked": true
    }
   },
   "outputs": [],
   "source": [
    "Customer_Table = pd.read_sql('SELECT * FROM Customer_Table', conn)\n",
    "Policy_Table = pd.read_sql('SELECT * FROM Policy_Table', conn)\n",
    "Fund_Table = pd.read_sql('SELECT * FROM Fund_Table', conn)"
   ]
  },
  {
   "cell_type": "markdown",
   "metadata": {
    "run_control": {
     "marked": true
    }
   },
   "source": [
    "## Q4: Produce a list of customers which have an invalid email address. What do you notice about these customers? ##\n",
    "\n",
    "Feel free to use any packages of your choice"
   ]
  },
  {
   "cell_type": "code",
   "execution_count": 14,
   "metadata": {
    "run_control": {
     "marked": true
    }
   },
   "outputs": [
    {
     "data": {
      "text/html": [
       "<div>\n",
       "<style scoped>\n",
       "    .dataframe tbody tr th:only-of-type {\n",
       "        vertical-align: middle;\n",
       "    }\n",
       "\n",
       "    .dataframe tbody tr th {\n",
       "        vertical-align: top;\n",
       "    }\n",
       "\n",
       "    .dataframe thead th {\n",
       "        text-align: right;\n",
       "    }\n",
       "</style>\n",
       "<table border=\"1\" class=\"dataframe\">\n",
       "  <thead>\n",
       "    <tr style=\"text-align: right;\">\n",
       "      <th></th>\n",
       "      <th>index</th>\n",
       "      <th>Customer ID</th>\n",
       "      <th>Email</th>\n",
       "      <th>Status</th>\n",
       "    </tr>\n",
       "  </thead>\n",
       "  <tbody>\n",
       "    <tr>\n",
       "      <th>0</th>\n",
       "      <td>1</td>\n",
       "      <td>CO314757</td>\n",
       "      <td>None</td>\n",
       "      <td>Not an email</td>\n",
       "    </tr>\n",
       "    <tr>\n",
       "      <th>1</th>\n",
       "      <td>2</td>\n",
       "      <td>CO720602</td>\n",
       "      <td>None</td>\n",
       "      <td>Not an email</td>\n",
       "    </tr>\n",
       "    <tr>\n",
       "      <th>2</th>\n",
       "      <td>3</td>\n",
       "      <td>CO34804</td>\n",
       "      <td>None</td>\n",
       "      <td>Not an email</td>\n",
       "    </tr>\n",
       "    <tr>\n",
       "      <th>3</th>\n",
       "      <td>4</td>\n",
       "      <td>CO474411</td>\n",
       "      <td>None</td>\n",
       "      <td>Not an email</td>\n",
       "    </tr>\n",
       "    <tr>\n",
       "      <th>4</th>\n",
       "      <td>5</td>\n",
       "      <td>CO777973</td>\n",
       "      <td>None</td>\n",
       "      <td>Not an email</td>\n",
       "    </tr>\n",
       "    <tr>\n",
       "      <th>5</th>\n",
       "      <td>6</td>\n",
       "      <td>CO311505</td>\n",
       "      <td>None</td>\n",
       "      <td>Not an email</td>\n",
       "    </tr>\n",
       "    <tr>\n",
       "      <th>6</th>\n",
       "      <td>7</td>\n",
       "      <td>CO474987</td>\n",
       "      <td>None</td>\n",
       "      <td>Not an email</td>\n",
       "    </tr>\n",
       "    <tr>\n",
       "      <th>7</th>\n",
       "      <td>8</td>\n",
       "      <td>CO496581</td>\n",
       "      <td>None</td>\n",
       "      <td>Not an email</td>\n",
       "    </tr>\n",
       "    <tr>\n",
       "      <th>8</th>\n",
       "      <td>9</td>\n",
       "      <td>CO862381</td>\n",
       "      <td>None</td>\n",
       "      <td>Not an email</td>\n",
       "    </tr>\n",
       "    <tr>\n",
       "      <th>9</th>\n",
       "      <td>22</td>\n",
       "      <td>CO401070</td>\n",
       "      <td>None</td>\n",
       "      <td>Not an email</td>\n",
       "    </tr>\n",
       "    <tr>\n",
       "      <th>10</th>\n",
       "      <td>28</td>\n",
       "      <td>CO131348</td>\n",
       "      <td>None</td>\n",
       "      <td>Not an email</td>\n",
       "    </tr>\n",
       "    <tr>\n",
       "      <th>11</th>\n",
       "      <td>29</td>\n",
       "      <td>CO494489</td>\n",
       "      <td>None</td>\n",
       "      <td>Not an email</td>\n",
       "    </tr>\n",
       "    <tr>\n",
       "      <th>12</th>\n",
       "      <td>30</td>\n",
       "      <td>CO340827</td>\n",
       "      <td>None</td>\n",
       "      <td>Not an email</td>\n",
       "    </tr>\n",
       "    <tr>\n",
       "      <th>13</th>\n",
       "      <td>31</td>\n",
       "      <td>CO990552</td>\n",
       "      <td>None</td>\n",
       "      <td>Not an email</td>\n",
       "    </tr>\n",
       "    <tr>\n",
       "      <th>14</th>\n",
       "      <td>32</td>\n",
       "      <td>CO623285</td>\n",
       "      <td>None</td>\n",
       "      <td>Not an email</td>\n",
       "    </tr>\n",
       "    <tr>\n",
       "      <th>15</th>\n",
       "      <td>33</td>\n",
       "      <td>CO276506</td>\n",
       "      <td>None</td>\n",
       "      <td>Not an email</td>\n",
       "    </tr>\n",
       "    <tr>\n",
       "      <th>16</th>\n",
       "      <td>34</td>\n",
       "      <td>CO531274</td>\n",
       "      <td>None</td>\n",
       "      <td>Not an email</td>\n",
       "    </tr>\n",
       "    <tr>\n",
       "      <th>17</th>\n",
       "      <td>35</td>\n",
       "      <td>CO486130</td>\n",
       "      <td>None</td>\n",
       "      <td>Not an email</td>\n",
       "    </tr>\n",
       "    <tr>\n",
       "      <th>18</th>\n",
       "      <td>36</td>\n",
       "      <td>CO607185</td>\n",
       "      <td>None</td>\n",
       "      <td>Not an email</td>\n",
       "    </tr>\n",
       "    <tr>\n",
       "      <th>19</th>\n",
       "      <td>37</td>\n",
       "      <td>CO797073</td>\n",
       "      <td>None</td>\n",
       "      <td>Not an email</td>\n",
       "    </tr>\n",
       "    <tr>\n",
       "      <th>20</th>\n",
       "      <td>38</td>\n",
       "      <td>CO697092</td>\n",
       "      <td>None</td>\n",
       "      <td>Not an email</td>\n",
       "    </tr>\n",
       "    <tr>\n",
       "      <th>21</th>\n",
       "      <td>39</td>\n",
       "      <td>CO462135</td>\n",
       "      <td>None</td>\n",
       "      <td>Not an email</td>\n",
       "    </tr>\n",
       "    <tr>\n",
       "      <th>22</th>\n",
       "      <td>40</td>\n",
       "      <td>CO636054</td>\n",
       "      <td>None</td>\n",
       "      <td>Not an email</td>\n",
       "    </tr>\n",
       "    <tr>\n",
       "      <th>23</th>\n",
       "      <td>41</td>\n",
       "      <td>CO28776</td>\n",
       "      <td>None</td>\n",
       "      <td>Not an email</td>\n",
       "    </tr>\n",
       "    <tr>\n",
       "      <th>24</th>\n",
       "      <td>49</td>\n",
       "      <td>CO259564</td>\n",
       "      <td>None</td>\n",
       "      <td>Not an email</td>\n",
       "    </tr>\n",
       "    <tr>\n",
       "      <th>25</th>\n",
       "      <td>65</td>\n",
       "      <td>CO377225</td>\n",
       "      <td>None</td>\n",
       "      <td>Not an email</td>\n",
       "    </tr>\n",
       "    <tr>\n",
       "      <th>26</th>\n",
       "      <td>66</td>\n",
       "      <td>CO343669</td>\n",
       "      <td>None</td>\n",
       "      <td>Not an email</td>\n",
       "    </tr>\n",
       "    <tr>\n",
       "      <th>27</th>\n",
       "      <td>67</td>\n",
       "      <td>CO76470</td>\n",
       "      <td>None</td>\n",
       "      <td>Not an email</td>\n",
       "    </tr>\n",
       "    <tr>\n",
       "      <th>28</th>\n",
       "      <td>68</td>\n",
       "      <td>CO997036</td>\n",
       "      <td>None</td>\n",
       "      <td>Not an email</td>\n",
       "    </tr>\n",
       "    <tr>\n",
       "      <th>29</th>\n",
       "      <td>69</td>\n",
       "      <td>CO878780</td>\n",
       "      <td>None</td>\n",
       "      <td>Not an email</td>\n",
       "    </tr>\n",
       "    <tr>\n",
       "      <th>30</th>\n",
       "      <td>70</td>\n",
       "      <td>CO714161</td>\n",
       "      <td>None</td>\n",
       "      <td>Not an email</td>\n",
       "    </tr>\n",
       "    <tr>\n",
       "      <th>31</th>\n",
       "      <td>71</td>\n",
       "      <td>CO46570</td>\n",
       "      <td>None</td>\n",
       "      <td>Not an email</td>\n",
       "    </tr>\n",
       "    <tr>\n",
       "      <th>32</th>\n",
       "      <td>72</td>\n",
       "      <td>CO34681</td>\n",
       "      <td>None</td>\n",
       "      <td>Not an email</td>\n",
       "    </tr>\n",
       "    <tr>\n",
       "      <th>33</th>\n",
       "      <td>73</td>\n",
       "      <td>CO521545</td>\n",
       "      <td>None</td>\n",
       "      <td>Not an email</td>\n",
       "    </tr>\n",
       "    <tr>\n",
       "      <th>34</th>\n",
       "      <td>74</td>\n",
       "      <td>CO823952</td>\n",
       "      <td>None</td>\n",
       "      <td>Not an email</td>\n",
       "    </tr>\n",
       "    <tr>\n",
       "      <th>35</th>\n",
       "      <td>75</td>\n",
       "      <td>CO478692</td>\n",
       "      <td>None</td>\n",
       "      <td>Not an email</td>\n",
       "    </tr>\n",
       "    <tr>\n",
       "      <th>36</th>\n",
       "      <td>76</td>\n",
       "      <td>CO360302</td>\n",
       "      <td>None</td>\n",
       "      <td>Not an email</td>\n",
       "    </tr>\n",
       "    <tr>\n",
       "      <th>37</th>\n",
       "      <td>121</td>\n",
       "      <td>CO609712</td>\n",
       "      <td>NOEMAIL</td>\n",
       "      <td>Invalid Email</td>\n",
       "    </tr>\n",
       "    <tr>\n",
       "      <th>38</th>\n",
       "      <td>174</td>\n",
       "      <td>CO668361</td>\n",
       "      <td>None</td>\n",
       "      <td>Not an email</td>\n",
       "    </tr>\n",
       "    <tr>\n",
       "      <th>39</th>\n",
       "      <td>188</td>\n",
       "      <td>CO321339</td>\n",
       "      <td>None</td>\n",
       "      <td>Not an email</td>\n",
       "    </tr>\n",
       "    <tr>\n",
       "      <th>40</th>\n",
       "      <td>189</td>\n",
       "      <td>CO424141</td>\n",
       "      <td>None</td>\n",
       "      <td>Not an email</td>\n",
       "    </tr>\n",
       "    <tr>\n",
       "      <th>41</th>\n",
       "      <td>218</td>\n",
       "      <td>CO71578</td>\n",
       "      <td>TGADDIEHB@TOPSY</td>\n",
       "      <td>Invalid Email</td>\n",
       "    </tr>\n",
       "    <tr>\n",
       "      <th>42</th>\n",
       "      <td>219</td>\n",
       "      <td>CO545536</td>\n",
       "      <td>VPEGGSK3@@@SPRINGER.COM</td>\n",
       "      <td>Invalid Email</td>\n",
       "    </tr>\n",
       "    <tr>\n",
       "      <th>43</th>\n",
       "      <td>229</td>\n",
       "      <td>CO660405</td>\n",
       "      <td>None</td>\n",
       "      <td>Not an email</td>\n",
       "    </tr>\n",
       "    <tr>\n",
       "      <th>44</th>\n",
       "      <td>249</td>\n",
       "      <td>CO186677</td>\n",
       "      <td>None</td>\n",
       "      <td>Not an email</td>\n",
       "    </tr>\n",
       "    <tr>\n",
       "      <th>45</th>\n",
       "      <td>337</td>\n",
       "      <td>CO795420</td>\n",
       "      <td>.</td>\n",
       "      <td>Invalid Email</td>\n",
       "    </tr>\n",
       "    <tr>\n",
       "      <th>46</th>\n",
       "      <td>367</td>\n",
       "      <td>CO825106</td>\n",
       "      <td>None</td>\n",
       "      <td>Not an email</td>\n",
       "    </tr>\n",
       "    <tr>\n",
       "      <th>47</th>\n",
       "      <td>368</td>\n",
       "      <td>CO285665</td>\n",
       "      <td>None</td>\n",
       "      <td>Not an email</td>\n",
       "    </tr>\n",
       "    <tr>\n",
       "      <th>48</th>\n",
       "      <td>399</td>\n",
       "      <td>CO205159</td>\n",
       "      <td>ALOWSELYHF@#AMAZON.CO.JP</td>\n",
       "      <td>Invalid Email</td>\n",
       "    </tr>\n",
       "    <tr>\n",
       "      <th>49</th>\n",
       "      <td>491</td>\n",
       "      <td>CO155821</td>\n",
       "      <td>None</td>\n",
       "      <td>Not an email</td>\n",
       "    </tr>\n",
       "    <tr>\n",
       "      <th>50</th>\n",
       "      <td>492</td>\n",
       "      <td>CO20742</td>\n",
       "      <td>None</td>\n",
       "      <td>Not an email</td>\n",
       "    </tr>\n",
       "    <tr>\n",
       "      <th>51</th>\n",
       "      <td>564</td>\n",
       "      <td>CO177172</td>\n",
       "      <td>None</td>\n",
       "      <td>Not an email</td>\n",
       "    </tr>\n",
       "    <tr>\n",
       "      <th>52</th>\n",
       "      <td>973</td>\n",
       "      <td>CO922481</td>\n",
       "      <td>CUSTOMER TO FOLLOW UP</td>\n",
       "      <td>Invalid Email</td>\n",
       "    </tr>\n",
       "  </tbody>\n",
       "</table>\n",
       "</div>"
      ],
      "text/plain": [
       "    index Customer ID                     Email         Status\n",
       "0       1    CO314757                      None   Not an email\n",
       "1       2    CO720602                      None   Not an email\n",
       "2       3     CO34804                      None   Not an email\n",
       "3       4    CO474411                      None   Not an email\n",
       "4       5    CO777973                      None   Not an email\n",
       "5       6    CO311505                      None   Not an email\n",
       "6       7    CO474987                      None   Not an email\n",
       "7       8    CO496581                      None   Not an email\n",
       "8       9    CO862381                      None   Not an email\n",
       "9      22    CO401070                      None   Not an email\n",
       "10     28    CO131348                      None   Not an email\n",
       "11     29    CO494489                      None   Not an email\n",
       "12     30    CO340827                      None   Not an email\n",
       "13     31    CO990552                      None   Not an email\n",
       "14     32    CO623285                      None   Not an email\n",
       "15     33    CO276506                      None   Not an email\n",
       "16     34    CO531274                      None   Not an email\n",
       "17     35    CO486130                      None   Not an email\n",
       "18     36    CO607185                      None   Not an email\n",
       "19     37    CO797073                      None   Not an email\n",
       "20     38    CO697092                      None   Not an email\n",
       "21     39    CO462135                      None   Not an email\n",
       "22     40    CO636054                      None   Not an email\n",
       "23     41     CO28776                      None   Not an email\n",
       "24     49    CO259564                      None   Not an email\n",
       "25     65    CO377225                      None   Not an email\n",
       "26     66    CO343669                      None   Not an email\n",
       "27     67     CO76470                      None   Not an email\n",
       "28     68    CO997036                      None   Not an email\n",
       "29     69    CO878780                      None   Not an email\n",
       "30     70    CO714161                      None   Not an email\n",
       "31     71     CO46570                      None   Not an email\n",
       "32     72     CO34681                      None   Not an email\n",
       "33     73    CO521545                      None   Not an email\n",
       "34     74    CO823952                      None   Not an email\n",
       "35     75    CO478692                      None   Not an email\n",
       "36     76    CO360302                      None   Not an email\n",
       "37    121    CO609712                   NOEMAIL  Invalid Email\n",
       "38    174    CO668361                      None   Not an email\n",
       "39    188    CO321339                      None   Not an email\n",
       "40    189    CO424141                      None   Not an email\n",
       "41    218     CO71578           TGADDIEHB@TOPSY  Invalid Email\n",
       "42    219    CO545536   VPEGGSK3@@@SPRINGER.COM  Invalid Email\n",
       "43    229    CO660405                      None   Not an email\n",
       "44    249    CO186677                      None   Not an email\n",
       "45    337    CO795420                         .  Invalid Email\n",
       "46    367    CO825106                      None   Not an email\n",
       "47    368    CO285665                      None   Not an email\n",
       "48    399    CO205159  ALOWSELYHF@#AMAZON.CO.JP  Invalid Email\n",
       "49    491    CO155821                      None   Not an email\n",
       "50    492     CO20742                      None   Not an email\n",
       "51    564    CO177172                      None   Not an email\n",
       "52    973    CO922481     CUSTOMER TO FOLLOW UP  Invalid Email"
      ]
     },
     "execution_count": 14,
     "metadata": {},
     "output_type": "execute_result"
    }
   ],
   "source": [
    "import re\n",
    "regex = r'\\b[A-Za-z0-9._%+-]+@[A-Za-z0-9.-]+\\.[A-Z|a-z]{2,}\\b'\n",
    "def check(email):\n",
    "    if(re.match(regex, email)):\n",
    "        return(\"Valid Email\")\n",
    "    else:\n",
    "        return(\"Invalid Email\")\n",
    "\n",
    "Customer_Table['Status']= Customer_Table.apply(lambda x: check(x[\"Email\"]) if x[\"Email\"]!=None else \"Not an email\", axis =1 )\n",
    "\n",
    "\n",
    "dataframe = pd.DataFrame(Customer_Table, columns = ['Customer ID', 'Email', 'Status'])\n",
    "dataframe[dataframe['Status']!='Valid Email'].reset_index()"
   ]
  },
  {
   "cell_type": "markdown",
   "metadata": {
    "run_control": {
     "marked": true
    }
   },
   "source": [
    "## Q5: The Managing Director of Pru Wealth needs to see how policy value differs between other variables in the database (e.g. customer demographics) . They don't have time to read a report, so have asked for a cool visualisation that tells a story.\n",
    "\n",
    "Visualise something cool, tell us a story! You can use packages like Matplotlib, Seaborn or Plotly.Tell us why you chose to visualise the data in this way and how it can be used from a business perspective.\n"
   ]
  },
  {
   "cell_type": "code",
   "execution_count": 15,
   "metadata": {},
   "outputs": [],
   "source": [
    "def age_buckets(x): \n",
    "    if x <= 18: return '0-18' \n",
    "    elif x < 41: return '19-40' \n",
    "    elif x < 60: return '41-59' \n",
    "    elif x < 80: return '60-79' \n",
    "    elif x >= 80: return '80+' \n",
    "    else: return 'other'"
   ]
  },
  {
   "cell_type": "code",
   "execution_count": 16,
   "metadata": {},
   "outputs": [
    {
     "data": {
      "text/html": [
       "<div>\n",
       "<style scoped>\n",
       "    .dataframe tbody tr th:only-of-type {\n",
       "        vertical-align: middle;\n",
       "    }\n",
       "\n",
       "    .dataframe tbody tr th {\n",
       "        vertical-align: top;\n",
       "    }\n",
       "\n",
       "    .dataframe thead th {\n",
       "        text-align: right;\n",
       "    }\n",
       "</style>\n",
       "<table border=\"1\" class=\"dataframe\">\n",
       "  <thead>\n",
       "    <tr style=\"text-align: right;\">\n",
       "      <th></th>\n",
       "      <th>index_x</th>\n",
       "      <th>Policy Number</th>\n",
       "      <th>Customer ID</th>\n",
       "      <th>Product Category</th>\n",
       "      <th>Product Name</th>\n",
       "      <th>Policy Value</th>\n",
       "      <th>Policy Start Date</th>\n",
       "      <th>index_y</th>\n",
       "      <th>Email</th>\n",
       "      <th>Gender</th>\n",
       "      <th>Age</th>\n",
       "      <th>Postcode</th>\n",
       "      <th>Status</th>\n",
       "      <th>Age Range</th>\n",
       "    </tr>\n",
       "  </thead>\n",
       "  <tbody>\n",
       "    <tr>\n",
       "      <th>0</th>\n",
       "      <td>0</td>\n",
       "      <td>RET100072</td>\n",
       "      <td>CO276506</td>\n",
       "      <td>RETIREMENT</td>\n",
       "      <td>RETIREMENT ACCOUNT</td>\n",
       "      <td>270033.0</td>\n",
       "      <td>2016-01-02 00:00:00</td>\n",
       "      <td>33</td>\n",
       "      <td>None</td>\n",
       "      <td>Female</td>\n",
       "      <td>87</td>\n",
       "      <td>None</td>\n",
       "      <td>Not an email</td>\n",
       "      <td>80+</td>\n",
       "    </tr>\n",
       "    <tr>\n",
       "      <th>1</th>\n",
       "      <td>1</td>\n",
       "      <td>RET100931</td>\n",
       "      <td>CO831289</td>\n",
       "      <td>RETIREMENT</td>\n",
       "      <td>RETIREMENT ACCOUNT</td>\n",
       "      <td>26394.0</td>\n",
       "      <td>2016-01-04 00:00:00</td>\n",
       "      <td>741</td>\n",
       "      <td>DGOWANLOCKPU@EBAY.CO.UK</td>\n",
       "      <td>Male</td>\n",
       "      <td>55</td>\n",
       "      <td>MD-3300</td>\n",
       "      <td>Valid Email</td>\n",
       "      <td>41-59</td>\n",
       "    </tr>\n",
       "    <tr>\n",
       "      <th>2</th>\n",
       "      <td>2</td>\n",
       "      <td>RET100682</td>\n",
       "      <td>CO784249</td>\n",
       "      <td>RETIREMENT</td>\n",
       "      <td>RETIREMENT ACCOUNT</td>\n",
       "      <td>773567.0</td>\n",
       "      <td>2016-01-04 00:00:00</td>\n",
       "      <td>774</td>\n",
       "      <td>CBROWNILLIX@UMN.EDU</td>\n",
       "      <td>Female</td>\n",
       "      <td>53</td>\n",
       "      <td>55330-000</td>\n",
       "      <td>Valid Email</td>\n",
       "      <td>41-59</td>\n",
       "    </tr>\n",
       "    <tr>\n",
       "      <th>3</th>\n",
       "      <td>3</td>\n",
       "      <td>RET100447</td>\n",
       "      <td>CO295533</td>\n",
       "      <td>RETIREMENT</td>\n",
       "      <td>RETIREMENT ACCOUNT</td>\n",
       "      <td>35512.0</td>\n",
       "      <td>2016-01-07 00:00:00</td>\n",
       "      <td>453</td>\n",
       "      <td>CCUTCHEYCE@SALON.COM</td>\n",
       "      <td>Male</td>\n",
       "      <td>65</td>\n",
       "      <td>None</td>\n",
       "      <td>Valid Email</td>\n",
       "      <td>60-79</td>\n",
       "    </tr>\n",
       "    <tr>\n",
       "      <th>4</th>\n",
       "      <td>4</td>\n",
       "      <td>RET100390</td>\n",
       "      <td>CO901735</td>\n",
       "      <td>RETIREMENT</td>\n",
       "      <td>RETIREMENT ACCOUNT</td>\n",
       "      <td>767580.0</td>\n",
       "      <td>2016-01-08 00:00:00</td>\n",
       "      <td>951</td>\n",
       "      <td>SOFEARGUISEAT@CHICAGOTRIBUNE.COM</td>\n",
       "      <td>Female</td>\n",
       "      <td>40</td>\n",
       "      <td>None</td>\n",
       "      <td>Valid Email</td>\n",
       "      <td>19-40</td>\n",
       "    </tr>\n",
       "  </tbody>\n",
       "</table>\n",
       "</div>"
      ],
      "text/plain": [
       "   index_x Policy Number Customer ID Product Category        Product Name  \\\n",
       "0        0     RET100072    CO276506       RETIREMENT  RETIREMENT ACCOUNT   \n",
       "1        1     RET100931    CO831289       RETIREMENT  RETIREMENT ACCOUNT   \n",
       "2        2     RET100682    CO784249       RETIREMENT  RETIREMENT ACCOUNT   \n",
       "3        3     RET100447    CO295533       RETIREMENT  RETIREMENT ACCOUNT   \n",
       "4        4     RET100390    CO901735       RETIREMENT  RETIREMENT ACCOUNT   \n",
       "\n",
       "   Policy Value    Policy Start Date  index_y  \\\n",
       "0      270033.0  2016-01-02 00:00:00       33   \n",
       "1       26394.0  2016-01-04 00:00:00      741   \n",
       "2      773567.0  2016-01-04 00:00:00      774   \n",
       "3       35512.0  2016-01-07 00:00:00      453   \n",
       "4      767580.0  2016-01-08 00:00:00      951   \n",
       "\n",
       "                              Email  Gender  Age   Postcode        Status  \\\n",
       "0                              None  Female   87       None  Not an email   \n",
       "1           DGOWANLOCKPU@EBAY.CO.UK    Male   55    MD-3300   Valid Email   \n",
       "2               CBROWNILLIX@UMN.EDU  Female   53  55330-000   Valid Email   \n",
       "3              CCUTCHEYCE@SALON.COM    Male   65       None   Valid Email   \n",
       "4  SOFEARGUISEAT@CHICAGOTRIBUNE.COM  Female   40       None   Valid Email   \n",
       "\n",
       "  Age Range  \n",
       "0       80+  \n",
       "1     41-59  \n",
       "2     41-59  \n",
       "3     60-79  \n",
       "4     19-40  "
      ]
     },
     "execution_count": 16,
     "metadata": {},
     "output_type": "execute_result"
    }
   ],
   "source": [
    "analysis_table = Policy_Table.merge(Customer_Table, how = 'left', on = 'Customer ID')\n",
    "\n",
    "analysis_table['Age Range'] = analysis_table.Age.apply(age_buckets)\n",
    "analysis_table.head()"
   ]
  },
  {
   "cell_type": "code",
   "execution_count": 17,
   "metadata": {},
   "outputs": [
    {
     "data": {
      "text/plain": [
       "<AxesSubplot:xlabel='Gender', ylabel='Policy_Value'>"
      ]
     },
     "execution_count": 17,
     "metadata": {},
     "output_type": "execute_result"
    },
    {
     "data": {
      "image/png": "[encoded data removed]",
      "text/plain": [
       "<Figure size 432x288 with 1 Axes>"
      ]
     },
     "metadata": {
      "needs_background": "light"
     },
     "output_type": "display_data"
    }
   ],
   "source": [
    "import seaborn as sns\n",
    "\n",
    "sum_assured_gender = analysis_table.groupby(['Customer ID', 'Gender']).aggregate(Policy_Value = ('Policy Value', sum)).reset_index() \n",
    "#sum_assured_gender.head()\n",
    "sns.boxplot(x='Gender',y='Policy_Value',data=sum_assured_gender, palette='rainbow')\n"
   ]
  },
  {
   "cell_type": "code",
   "execution_count": 18,
   "metadata": {},
   "outputs": [
    {
     "data": {
      "text/plain": [
       "<AxesSubplot:xlabel='Age', ylabel='Policy_Value'>"
      ]
     },
     "execution_count": 18,
     "metadata": {},
     "output_type": "execute_result"
    },
    {
     "data": {
      "image/png": "[encoded data removed]",
      "text/plain": [
       "<Figure size 432x288 with 1 Axes>"
      ]
     },
     "metadata": {
      "needs_background": "light"
     },
     "output_type": "display_data"
    }
   ],
   "source": [
    "#analysis_table\n",
    "sum_assured_age = analysis_table.groupby(['Customer ID', 'Age']).aggregate(Policy_Value = ('Policy Value', sum)).reset_index() \n",
    "sns.scatterplot(data=sum_assured_age, x=\"Age\", y=\"Policy_Value\")\n",
    "#total_sum_assured_age"
   ]
  },
  {
   "cell_type": "code",
   "execution_count": 19,
   "metadata": {},
   "outputs": [
    {
     "data": {
      "image/png": "[encoded data removed]",
      "text/plain": [
       "<Figure size 864x360 with 2 Axes>"
      ]
     },
     "metadata": {
      "needs_background": "light"
     },
     "output_type": "display_data"
    }
   ],
   "source": [
    "import matplotlib.pyplot as plt\n",
    "plt.figure(figsize=(12,5))\n",
    "plt.subplot(121)\n",
    "ax = sns.countplot(x=\"Age Range\", data=analysis_table)\n",
    "plt.subplot(122)\n",
    "ax = sns.countplot(x=\"Gender\", data=analysis_table)"
   ]
  },
  {
   "cell_type": "code",
   "execution_count": 20,
   "metadata": {},
   "outputs": [
    {
     "name": "stdout",
     "output_type": "stream",
     "text": [
      "  Age Range  Policy_Value\n",
      "0     19-40    26106822.0\n",
      "1     41-59   143315556.0\n",
      "2     60-79   261897274.0\n",
      "3       80+    75858365.0\n"
     ]
    },
    {
     "data": {
      "image/png": "[encoded data removed]",
      "text/plain": [
       "<Figure size 432x288 with 1 Axes>"
      ]
     },
     "metadata": {
      "needs_background": "light"
     },
     "output_type": "display_data"
    }
   ],
   "source": [
    "analysis_table\n",
    "sum_assured_age_range = analysis_table.groupby(['Age Range']).aggregate(Policy_Value = ('Policy Value', sum)).reset_index() \n",
    "print(sum_assured_age_range)\n",
    "sns.barplot(x = 'Age Range', y = 'Policy_Value',  data = sum_assured_age_range)\n",
    "plt.show()"
   ]
  },
  {
   "cell_type": "code",
   "execution_count": 21,
   "metadata": {
    "run_control": {
     "marked": true
    }
   },
   "outputs": [
    {
     "data": {
      "text/plain": [
       "<AxesSubplot:xlabel='Age Range', ylabel='Sum_Assured'>"
      ]
     },
     "execution_count": 21,
     "metadata": {},
     "output_type": "execute_result"
    },
    {
     "data": {
      "image/png": "[encoded data removed]",
      "text/plain": [
       "<Figure size 432x288 with 1 Axes>"
      ]
     },
     "metadata": {
      "needs_background": "light"
     },
     "output_type": "display_data"
    }
   ],
   "source": [
    "# Insert your answer below: \n",
    "total_sum_assured = analysis_table.groupby(['Age Range', 'Gender']).aggregate(Sum_Assured = ('Policy Value', sum)).reset_index()\n",
    "total_sum_assured.head()\n",
    "sns.boxplot(x='Age Range',y='Sum_Assured',data=total_sum_assured, palette='rainbow')"
   ]
  }
 ],
 "metadata": {
  "celltoolbar": "Raw Cell Format",
  "kernelspec": {
   "display_name": "Python 3",
   "language": "python",
   "name": "python3"
  },
  "language_info": {
   "codemirror_mode": {
    "name": "ipython",
    "version": 3
   },
   "file_extension": ".py",
   "mimetype": "text/x-python",
   "name": "python",
   "nbconvert_exporter": "python",
   "pygments_lexer": "ipython3",
   "version": "3.8.8"
  },
  "toc": {
   "colors": {
    "hover_highlight": "#DAA520",
    "running_highlight": "#FF0000",
    "selected_highlight": "#FFD700"
   },
   "moveMenuLeft": true,
   "nav_menu": {},
   "navigate_menu": true,
   "number_sections": true,
   "sideBar": true,
   "skip_h1_title": false,
   "threshold": 4,
   "toc_cell": false,
   "toc_position": {
    "height": "977px",
    "left": "0px",
    "right": "1457.01px",
    "top": "107px",
    "width": "214px"
   },
   "toc_section_display": "block",
   "toc_window_display": true
  }
 },
 "nbformat": 4,
 "nbformat_minor": 1
}
